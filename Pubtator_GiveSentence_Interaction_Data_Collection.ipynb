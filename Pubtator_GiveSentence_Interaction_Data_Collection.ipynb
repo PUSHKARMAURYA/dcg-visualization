{
  "nbformat": 4,
  "nbformat_minor": 0,
  "metadata": {
    "colab": {
      "provenance": []
    },
    "kernelspec": {
      "name": "ir",
      "display_name": "R"
    },
    "language_info": {
      "name": "R"
    }
  },
  "cells": [
    {
      "cell_type": "markdown",
      "source": [
        "# Change the Runtime to R"
      ],
      "metadata": {
        "id": "637UIhHSD5oH"
      }
    },
    {
      "cell_type": "code",
      "source": [
        "from google.colab import drive  # Importing Google Drive module for Colab\n",
        "drive.mount('/content/drive')  # Mounting Google Drive to Colab"
      ],
      "metadata": {
        "id": "OEnMGNzhCfAy"
      },
      "execution_count": null,
      "outputs": []
    },
    {
      "cell_type": "code",
      "execution_count": null,
      "metadata": {
        "id": "Jfp5-o9OCFvQ"
      },
      "outputs": [],
      "source": [
        "# Importing necessary packages and libraries for the task\n",
        "install.packages(\"pubmed.mineR\")  # Installing the pubmed.mineR package"
      ]
    },
    {
      "cell_type": "code",
      "source": [
        "library(pubmed.mineR)  # Loading the pubmed.mineR library"
      ],
      "metadata": {
        "id": "t-Uic5SMCcIH"
      },
      "execution_count": null,
      "outputs": []
    },
    {
      "cell_type": "code",
      "source": [
        "# Load the necessary libraries\n",
        "library(httr)  # Loading httr for HTTP requests\n",
        "library(jsonlite)  # Loading jsonlite for handling JSON data"
      ],
      "metadata": {
        "id": "aPmbq-GHCcFU"
      },
      "execution_count": null,
      "outputs": []
    },
    {
      "cell_type": "markdown",
      "source": [
        "### Give the CSV file name of Respective Traditional Medicine From Pubmed"
      ],
      "metadata": {
        "id": "I9iA-TiiEBgF"
      }
    },
    {
      "cell_type": "code",
      "source": [
        "# Load the updated CSV containing PMID and Abstract\n",
        "data <- read.csv(\"den.csv\")  # Reading the CSV file into a data frame"
      ],
      "metadata": {
        "id": "gkzakytOCcDJ"
      },
      "execution_count": null,
      "outputs": []
    },
    {
      "cell_type": "markdown",
      "source": [
        "### Generating the Pubtator Result"
      ],
      "metadata": {
        "id": "vVqBQTUtEM9P"
      }
    },
    {
      "cell_type": "code",
      "source": [
        "# Define the PubTator function\n",
        "pubtator_function <- function(x) {\n",
        "  url <- paste(\"https://www.ncbi.nlm.nih.gov/research/pubtator-api/publications/export/pubtator?pmids=\", x, sep = \"\")  # Creating the URL for PubTator API\n",
        "\n",
        "  tryCatch({\n",
        "    response <- GET(url)  # Sending GET request to the API\n",
        "    content <- content(response, \"text\", encoding = \"UTF-8\")  # Extracting content from the response\n",
        "    lines <- unlist(strsplit(content, \"\\n\", fixed = TRUE))  # Splitting the content into lines\n",
        "\n",
        "    table1 <- NULL\n",
        "    for (i in 3:length(lines)) {  # Iterating over lines starting from the third line\n",
        "      temps <- unlist(strsplit(lines[i], \"\\t\", fixed = TRUE))  # Splitting each line by tab character\n",
        "      if (length(temps) == 5) {  # Adding \"No Data\" if the length of temps is 5\n",
        "        temps <- c(temps, \"No Data\")\n",
        "      }\n",
        "      table1 <- rbind(table1, temps)  # Appending the split data to table1\n",
        "    }\n",
        "\n",
        "    if (ncol(table1) == 6) {  # Checking if table1 has 6 columns\n",
        "      table2 <- as.data.frame(table1)  # Converting table1 to a data frame\n",
        "      colnames(table2) <- c(\"PMID\", \"Start\", \"End\", \"Term\", \"TermType\", \"TermID\")  # Naming the columns\n",
        "      gene <- NULL\n",
        "      disease <- NULL\n",
        "      mutation <- NULL\n",
        "      chemical <- NULL\n",
        "      species <- NULL\n",
        "      for (i in 1:length(table2$TermType)) {  # Iterating over TermType column\n",
        "        if (table2$TermType[i] == \"Gene\")\n",
        "          gene <- c(gene, paste(table2$Term[i], table2$TermID[i], sep = \">\"))\n",
        "        else if (table2$TermType[i] == \"Disease\")\n",
        "          disease <- c(disease, paste(table2$Term[i], table2$TermID[i], sep = \">\"))\n",
        "        else if (table2$TermType[i] == \"Mutation\")\n",
        "          mutation <- c(mutation, paste(table2$Term[i], table2$TermID[i], sep = \">\"))\n",
        "        else if (table2$TermType[i] == \"Chemical\")\n",
        "          chemical <- c(chemical, paste(table2$Term[i], table2$TermID[i], sep = \">\"))\n",
        "        else if (table2$TermType[i] == \"Species\")\n",
        "          species <- c(species, paste(table2$Term[i], table2$TermID[i], sep = \">\"))\n",
        "      }\n",
        "      gene <- unique(gene)  # Removing duplicate genes\n",
        "      disease <- unique(disease)  # Removing duplicate diseases\n",
        "      mutation <- unique(mutation)  # Removing duplicate mutations\n",
        "      chemical <- unique(chemical)  # Removing duplicate chemicals\n",
        "      species <- unique(species)  # Removing duplicate species\n",
        "\n",
        "      result <- data.frame(PMID = x, Genes = paste(gene, collapse = \"; \"), Diseases = paste(disease, collapse = \"; \"),\n",
        "                          Mutations = paste(mutation, collapse = \"; \"), Chemicals = paste(chemical, collapse = \"; \"),\n",
        "                          Species = paste(species, collapse = \"; \"))  # Creating a data frame with the results\n",
        "      return(result)  # Returning the result\n",
        "    } else {\n",
        "      result <- data.frame(PMID = x, Genes = \"\", Diseases = \"\", Mutations = \"\", Chemicals = \"\", Species = \"\")  # Handling cases with no data\n",
        "      return(result)  # Returning the result\n",
        "    }\n",
        "  }, error = function(e) {\n",
        "    result <- data.frame(PMID = x, Genes = \"\", Diseases = \"\", Mutations = \"\", Chemicals = \"\", Species = \"\")  # Handling errors\n",
        "    return(result)  # Returning the result\n",
        "  })\n",
        "}\n",
        "\n",
        "# Create an empty data frame to store results\n",
        "results_df <- data.frame(PMID = numeric(0), Genes = character(0), Diseases = character(0), Mutations = character(0),\n",
        "                        Chemicals = character(0), Species = character(0))  # Initializing an empty data frame\n",
        "\n",
        "# Loop through the PMIDs in the CSV\n",
        "for (pmid in data$PMID) {  # Iterating over each PMID in the data\n",
        "  result <- pubtator_function(pmid)  # Calling the pubtator_function for each PMID\n",
        "  results_df <- rbind(results_df, result)  # Appending the result to the results_df\n",
        "}\n",
        "\n",
        "# Write the results to a CSV file\n",
        "write.csv(results_df, \"Pubtator_Result_Traditional_Medicine.csv\", row.names = FALSE)  # Writing the results to a CSV file"
      ],
      "metadata": {
        "id": "gPxrdNFtCcBF"
      },
      "execution_count": null,
      "outputs": []
    },
    {
      "cell_type": "markdown",
      "source": [
        "Separate the Genes and its Respective Data from the above Pubtator Result File"
      ],
      "metadata": {
        "id": "zxlRmk0AEe8x"
      }
    },
    {
      "cell_type": "code",
      "source": [
        "# Load the necessary libraries\n",
        "library(dplyr)  # Loading dplyr for data manipulation\n",
        "library(tidyr)  # Loading tidyr for data tidying\n",
        "library(stringr)  # Loading stringr for string operations\n",
        "\n",
        "# Load the pubtator_results CSV\n",
        "pubtator_results <- read.csv(\"pub.csv\", stringsAsFactors = FALSE)  # Reading the pubtator results CSV\n",
        "\n",
        "# Separate the Genes column into a list of genes\n",
        "gene_list <- strsplit(pubtator_results$Genes, \"; \")  # Splitting the Genes column by \"; \"\n",
        "\n",
        "# Create a data frame with one row per gene\n",
        "gene_df <- data.frame(Gene = unlist(gene_list), PMID = rep(pubtator_results$PMID, sapply(gene_list, length)))  # Creating a data frame with one row per gene\n",
        "\n",
        "# Extract gene name and gene ID\n",
        "gene_df <- gene_df %>%\n",
        "  separate(Gene, into = c(\"GeneName\", \"GeneId\"), sep = \">\")  # Splitting the Gene column into GeneName and GeneId\n",
        "\n",
        "# Count the number of times each gene appears and list of PMIDs\n",
        "gene_counts <- gene_df %>%\n",
        "  group_by(GeneName, GeneId) %>%\n",
        "  summarise(Count = n(),\n",
        "            PMIDList = paste(unique(PMID), collapse = \", \"))  # Grouping by GeneName and GeneId and summarizing the counts and PMIDs\n",
        "\n",
        "# Write the gene counts to a new CSV\n",
        "write.csv(gene_counts, \"Chinese_gene_count.csv\", row.names = FALSE)  # Writing the gene counts to a new CSV\n"
      ],
      "metadata": {
        "id": "kIX7atXQCb-5"
      },
      "execution_count": null,
      "outputs": []
    },
    {
      "cell_type": "markdown",
      "source": [
        "Separate the Chemical and its Respective Data from the above Pubtator Result File"
      ],
      "metadata": {
        "id": "xNK7VVK4Evgl"
      }
    },
    {
      "cell_type": "code",
      "source": [
        "\n",
        "# Load the necessary libraries\n",
        "library(dplyr)  # Loading dplyr for data manipulation\n",
        "library(tidyr)  # Loading tidyr for data tidying\n",
        "library(stringr)  # Loading stringr for string operations\n",
        "\n",
        "# Load the pubtator_results CSV\n",
        "pubtator_results <- read.csv(\"pub.csv\", stringsAsFactors = FALSE)  # Reading the pubtator results CSV\n",
        "\n",
        "# Separate the Chemicals column into a list of chemicals\n",
        "chemical_list <- strsplit(pubtator_results$Chemicals, \"; \")  # Splitting the Chemicals column by \"; \"\n",
        "\n",
        "# Create a data frame with one row per chemical\n",
        "chemical_df <- data.frame(Chemical = unlist(chemical_list), PMID = rep(pubtator_results$PMID, sapply(chemical_list, length)))  # Creating a data frame with one row per chemical\n",
        "\n",
        "# Extract chemical name and chemical ID\n",
        "chemical_df <- chemical_df %>%\n",
        "  separate(Chemical, into = c(\"ChemicalName\", \"ChemicalId\"), sep = \">\")  # Splitting the Chemical column into ChemicalName and ChemicalId\n",
        "\n",
        "# Count the number of times each chemical appears and list of PMIDs\n",
        "chemical_counts <- chemical_df %>%\n",
        "  group_by(ChemicalName, ChemicalId) %>%\n",
        "  summarise(Count = n(),\n",
        "            PMIDList = paste(unique(PMID), collapse = \", \"))  # Grouping by ChemicalName and ChemicalId and summarizing the counts and PMIDs\n",
        "\n",
        "# Write the chemical counts to a new CSV\n",
        "write.csv(chemical_counts, \"Chinese_chemical_counts.csv\", row.names = FALSE)  # Writing the chemical counts to a new CSV\n",
        "\n"
      ],
      "metadata": {
        "id": "9cRwg-Y3Cb8t"
      },
      "execution_count": null,
      "outputs": []
    },
    {
      "cell_type": "markdown",
      "source": [
        "Separate the Disease and its Respective Data from the above Pubtator Result File"
      ],
      "metadata": {
        "id": "wySpP-0aEyDO"
      }
    },
    {
      "cell_type": "code",
      "source": [
        "\n",
        "# Load the necessary libraries\n",
        "library(dplyr)  # Loading dplyr for data manipulation\n",
        "library(tidyr)  # Loading tidyr for data tidying\n",
        "library(stringr)  # Loading stringr for string operations\n",
        "\n",
        "# Load the pubtator_results CSV\n",
        "pubtator_results <- read.csv(\"pub.csv\", stringsAsFactors = FALSE)  # Reading the pubtator results CSV\n",
        "\n",
        "# Separate the Diseases column into a list of diseases\n",
        "disease_list <- strsplit(pubtator_results$Diseases, \"; \")  # Splitting the Diseases column by \"; \"\n",
        "\n",
        "# Create a data frame with one row per disease\n",
        "disease_df <- data.frame(Disease = unlist(disease_list), PMID = rep(pubtator_results$PMID, sapply(disease_list, length)))  # Creating a data frame with one row per disease\n",
        "\n",
        "# Extract disease name and disease ID\n",
        "disease_df <- disease_df %>%\n",
        "  separate(Disease, into = c(\"DiseaseName\", \"DiseaseId\"), sep = \">\")  # Splitting the Disease column into DiseaseName and DiseaseId\n",
        "\n",
        "# Count the number of times each disease appears and list of PMIDs\n",
        "disease_counts <- disease_df %>%\n",
        "  group_by(DiseaseName, DiseaseId) %>%\n",
        "  summarise(Count = n(),\n",
        "            PMIDList = paste(unique(PMID), collapse = \", \"))  # Grouping by DiseaseName and DiseaseId and summarizing the counts and PMIDs\n",
        "\n",
        "# Write the disease counts to a new CSV\n",
        "write.csv(disease_counts, \"Chinese_disease_counts.csv\", row.names = FALSE)  # Writing the disease counts to a new CSV\n",
        "\n"
      ],
      "metadata": {
        "id": "b54vFUW4Cb6e"
      },
      "execution_count": null,
      "outputs": []
    },
    {
      "cell_type": "markdown",
      "source": [
        "# Change Runtime to Python"
      ],
      "metadata": {
        "id": "EowRLuy-GfHc"
      }
    },
    {
      "cell_type": "markdown",
      "source": [
        "### Give the CSV File path name for Gene, Disease, Chemical"
      ],
      "metadata": {
        "id": "g4YJjIQCGlYi"
      }
    },
    {
      "cell_type": "code",
      "source": [
        "gene_count = '/content/drive/MyDrive/IP_new/IP/Traditional Chinese Medicine/Chinese_gene_count.csv'\n",
        "disease_count = '/content/drive/MyDrive/IP_new/IP/Traditional Chinese Medicine/Chinese_disease_counts.csv'\n",
        "chemical_count = '/content/drive/MyDrive/IP_new/IP/Traditional Chinese Medicine/Chinese_chemical_counts.csv'"
      ],
      "metadata": {
        "id": "rYxqx5kjGe9_"
      },
      "execution_count": null,
      "outputs": []
    },
    {
      "cell_type": "markdown",
      "source": [
        "### Give the CSV file path name for the traditional medicine which was downloaded from pubmed"
      ],
      "metadata": {
        "id": "QTgGt2U2G1MS"
      }
    },
    {
      "cell_type": "code",
      "source": [
        "main_file = '/content/drive/MyDrive/IP_new/IP/Traditional Chinese Medicine/csv-traditiona-set.csv'"
      ],
      "metadata": {
        "id": "8Es6D2V4Ge3P"
      },
      "execution_count": null,
      "outputs": []
    },
    {
      "cell_type": "markdown",
      "source": [
        "### Matching PMID with PMCID from Main File and storing it for GiveSentence"
      ],
      "metadata": {
        "id": "h_KOaymZIcEg"
      }
    },
    {
      "cell_type": "code",
      "source": [
        "import pandas as pd\n",
        "\n",
        "# Read the data from the first sheet containing gene and PMID columns\n",
        "df_sheet1 = pd.read_csv(gene_count)\n",
        "\n",
        "# Read the data from the second sheet containing PMID and PMCID columns\n",
        "df_sheet2 = pd.read_csv(main_file)\n",
        "\n",
        "# Convert 'PMID' column in df_sheet2 to string data type\n",
        "df_sheet2['PMID'] = df_sheet2['PMID'].astype(str)\n",
        "\n",
        "# Split the PMIDList in df_sheet1 into individual rows\n",
        "df_sheet1 = df_sheet1.explode('PMIDList')\n",
        "\n",
        "# Merge the two dataframes based on the common column PMID\n",
        "merged_df = pd.merge(df_sheet1, df_sheet2, left_on='PMIDList', right_on='PMID', how='left')\n",
        "\n",
        "# Group by GeneName and aggregate PMCID values into a list\n",
        "df_sheet3 = merged_df.groupby('GeneName')['PMCID'].agg(list).reset_index()\n",
        "\n",
        "# Write the result to a new CSV file\n",
        "df_sheet3.to_csv('chinese_merged_gn.csv',index=False)"
      ],
      "metadata": {
        "id": "Lm8sqRHUGeri"
      },
      "execution_count": null,
      "outputs": []
    },
    {
      "cell_type": "code",
      "source": [
        "import pandas as pd\n",
        "\n",
        "# Read the data from the first sheet containing gene and PMID columns\n",
        "df_sheet1 = pd.read_csv(disease_count)\n",
        "\n",
        "# Read the data from the second sheet containing PMID and PMCID columns\n",
        "df_sheet2 = pd.read_csv(main_file)\n",
        "\n",
        "# Convert 'PMID' column in df_sheet2 to string data type\n",
        "df_sheet2['PMID'] = df_sheet2['PMID'].astype(str)\n",
        "\n",
        "# Split the PMIDList in df_sheet1 into individual rows\n",
        "df_sheet1 = df_sheet1.explode('PMIDList')\n",
        "\n",
        "# Merge the two dataframes based on the common column PMID\n",
        "merged_df = pd.merge(df_sheet1, df_sheet2, left_on='PMIDList', right_on='PMID', how='left')\n",
        "\n",
        "# Group by GeneName and aggregate PMCID values into a list\n",
        "df_sheet3 = merged_df.groupby('DiseaseName')['PMCID'].agg(list).reset_index()\n",
        "\n",
        "# Write the result to a new CSV file\n",
        "df_sheet3.to_csv('chinese_merged_dh.csv',index=False)"
      ],
      "metadata": {
        "id": "e-4Vy0evGeix"
      },
      "execution_count": null,
      "outputs": []
    },
    {
      "cell_type": "code",
      "source": [
        "import pandas as pd\n",
        "\n",
        "# Read the data from the first sheet containing gene and PMID columns\n",
        "df_sheet1 = pd.read_csv(chemical_count)\n",
        "\n",
        "# Read the data from the second sheet containing PMID and PMCID columns\n",
        "df_sheet2 = pd.read_csv(main_file)\n",
        "\n",
        "# Convert 'PMID' column in df_sheet2 to string data type\n",
        "df_sheet2['PMID'] = df_sheet2['PMID'].astype(str)\n",
        "\n",
        "# Split the PMIDList in df_sheet1 into individual rows\n",
        "df_sheet1 = df_sheet1.explode('PMIDList')\n",
        "\n",
        "# Merge the two dataframes based on the common column PMID\n",
        "merged_df = pd.merge(df_sheet1, df_sheet2, left_on='PMIDList', right_on='PMID', how='left')\n",
        "\n",
        "# Group by GeneName and aggregate PMCID values into a list\n",
        "df_sheet3 = merged_df.groupby('ChemicalName')['PMCID'].agg(list).reset_index()\n",
        "\n",
        "# Write the result to a new CSV file\n",
        "df_sheet3.to_csv('chinese_merged_ch.csv',index=False)"
      ],
      "metadata": {
        "id": "03O-3K-YHexT"
      },
      "execution_count": null,
      "outputs": []
    },
    {
      "cell_type": "markdown",
      "source": [
        "## Preprocessing the New CSV file"
      ],
      "metadata": {
        "id": "axv0T6tPIdra"
      }
    },
    {
      "cell_type": "markdown",
      "source": [
        "### Change the File for each csv file i.e., Chemical,Gene and Disease"
      ],
      "metadata": {
        "id": "QLjUMhhgJQRf"
      }
    },
    {
      "cell_type": "code",
      "source": [
        "file_name= \"/content/chinese_merged_ch.csv\""
      ],
      "metadata": {
        "id": "DnjSm0MLIx9B"
      },
      "execution_count": null,
      "outputs": []
    },
    {
      "cell_type": "code",
      "source": [
        "import pandas as pd\n",
        "\n",
        "# Read the CSV file into a DataFrame\n",
        "df = pd.read_csv(p)\n",
        "\n",
        "# Check for null values in any cell and drop the corresponding rows\n",
        "df = df.dropna()\n",
        "\n",
        "# Write the modified DataFrame to a new CSV file\n",
        "df.to_csv(new_file_name, index=False)\n"
      ],
      "metadata": {
        "id": "4sHQm1PQIxyG"
      },
      "execution_count": null,
      "outputs": []
    },
    {
      "cell_type": "code",
      "source": [
        "new_file_name = \"/content/chinese_merged_gn.csv\""
      ],
      "metadata": {
        "id": "vsaeLNVKI8yw"
      },
      "execution_count": null,
      "outputs": []
    },
    {
      "cell_type": "code",
      "source": [
        "import pandas as pd\n",
        "\n",
        "# Read the CSV file into a DataFrame\n",
        "df = pd.read_csv(new_file_name)\n",
        "\n",
        "# Drop rows where ChemicalName contains characters other than alphanumeric and hyphen\n",
        "df = df[df['GeneName'].str.contains(r'^[a-zA-Z0-9\\-]+$')]\n",
        "\n",
        "# Write the modified DataFrame to a new CSV file\n",
        "df.to_csv(new_file_name, index=False)\n"
      ],
      "metadata": {
        "id": "j9D1Grz1JHAK"
      },
      "execution_count": null,
      "outputs": []
    },
    {
      "cell_type": "markdown",
      "source": [
        "# Change Runtime to R"
      ],
      "metadata": {
        "id": "54mJqo4xHnK8"
      }
    },
    {
      "cell_type": "markdown",
      "source": [
        "### It Takes the Input as CSV as Disease Count and Generates GiveSentence\n",
        "\n",
        "\n",
        "\n"
      ],
      "metadata": {
        "id": "Wbbo3dfME13V"
      }
    },
    {
      "cell_type": "code",
      "source": [
        "\n",
        "# Read the CSV file\n",
        "data <- read.csv(\"Chinese_disease_counts.csv\")  # Reading the CSV file\n",
        "\n",
        "# Extract GeneName column into a list\n",
        "GeneName_list <- data$DiseaseName  # Extracting the DiseaseName column into a list\n",
        "\n",
        "# Extract PMCID column into a list\n",
        "PMCID_list <- data$PMCID  # Extracting the PMCID column into a list\n",
        "\n",
        "# Function to extract numeric part from PMCID\n",
        "extract_numeric_part <- function(pmcid) {\n",
        "  if (pmcid != \"[nan]\") {\n",
        "    return(as.numeric(gsub(\"[^0-9]\", \"\", pmcid)))  # Extracting numeric part from PMCID\n",
        "  } else {\n",
        "    return(NA)\n",
        "  }\n",
        "}\n",
        "\n",
        "# Extract numeric part from PMCID and convert to list of lists\n",
        "PMIDList_list <- lapply(PMCID_list, extract_numeric_part)  # Applying the function to extract numeric parts\n",
        "\n",
        "# Create an empty data frame to store results\n",
        "results_df <- data.frame(\n",
        "  gene_name = character(),\n",
        "  pmid = character(),\n",
        "  sentences = character(),\n",
        "  stringsAsFactors = FALSE\n",
        ")  # Initializing an empty data frame\n",
        "\n",
        "# Iterate over indices of GeneName_list\n",
        "for (i in seq_along(GeneName_list)) {  # Iterating over each element in GeneName_list\n",
        "  # Get gene name\n",
        "  gene_name <- GeneName_list[[i]]\n",
        "\n",
        "  # Check if gene_name has missing '(' or ')'\n",
        "  if (grepl(\"[()]\", gene_name)) {\n",
        "    # Add missing parentheses\n",
        "    if (!grepl(\"\\\\(\", gene_name)) {\n",
        "      gene_name <- paste0(\"(\", gene_name)\n",
        "    }\n",
        "    if (!grepl(\"\\\\)\", gene_name)) {\n",
        "      gene_name <- paste0(gene_name, \")\")\n",
        "    }\n",
        "  }\n",
        "\n",
        "  # Get corresponding PMID list\n",
        "  pmid_list <- PMIDList_list[[i]]\n",
        "\n",
        "  # Iterate over PMIDs in the list\n",
        "  for (pmid in pmid_list) {\n",
        "    # Check if pmid is not NA\n",
        "    if (!is.na(pmid)) {\n",
        "      # Call Give_Sentences_PMC function for the gene name and PMID\n",
        "      sentences <- Give_Sentences_PMC(pmid, gene_name)\n",
        "\n",
        "      # Check if sentences are not empty\n",
        "      if (length(sentences) > 0) {\n",
        "        # Concatenate all sentences into a single string\n",
        "        concatenated_sentences <- paste(sentences, collapse = \" \")\n",
        "\n",
        "        # Add the results to the data frame\n",
        "        results_df <- rbind(results_df, data.frame(gene_name = gene_name, pmid = pmid, sentences = concatenated_sentences))\n",
        "      }\n",
        "    }\n",
        "  }\n",
        "}\n",
        "\n",
        "# Write the results data frame to a CSV file\n",
        "write.csv(results_df, \"results_chinese_dh.csv\", row.names = FALSE)  # Writing the results data frame to a CSV file\n"
      ],
      "metadata": {
        "id": "7h0B8n4QCb4Q"
      },
      "execution_count": null,
      "outputs": []
    },
    {
      "cell_type": "markdown",
      "source": [
        "### It Takes the Input as CSV as Gene Count and Generates GiveSentence"
      ],
      "metadata": {
        "id": "2TXrVmyAFCxe"
      }
    },
    {
      "cell_type": "code",
      "source": [
        "\n",
        "# Read the CSV file\n",
        "data <- read.csv(\"/content/drive/MyDrive/IP_new/IP/Traditional Chinese Medicine/chinese_merged_gn.csv\")  # Reading the merged gene CSV file\n",
        "\n",
        "# Extract GeneName column into a list\n",
        "GeneName_list <- data$GeneName  # Extracting the GeneName column into a list\n",
        "\n",
        "# Extract PMCID column into a list\n",
        "PMCID_list <- data$PMCID  # Extracting the PMCID column into a list\n",
        "\n",
        "# Function to extract numeric part from PMCID\n",
        "extract_numeric_part <- function(pmcid) {\n",
        "  if (pmcid != \"[nan]\") {\n",
        "    return(as.numeric(gsub(\"[^0-9]\", \"\", pmcid)))  # Extracting numeric part from PMCID\n",
        "  } else {\n",
        "    return(NA)\n",
        "  }\n",
        "}\n",
        "\n",
        "# Extract numeric part from PMCID and convert to list of lists\n",
        "PMIDList_list <- lapply(PMCID_list, extract_numeric_part)  # Applying the function to extract numeric parts\n",
        "\n",
        "# Create an empty data frame to store results\n",
        "results_df <- data.frame(\n",
        "  gene_name = character(),\n",
        "  pmid = character(),\n",
        "  sentences = character(),\n",
        "  stringsAsFactors = FALSE\n",
        ")  # Initializing an empty data frame\n",
        "\n",
        "# Iterate over indices of GeneName_list\n",
        "for (i in seq_along(GeneName_list)) {  # Iterating over each element in GeneName_list\n",
        "  # Get gene name\n",
        "  gene_name <- GeneName_list[[i]]\n",
        "\n",
        "  # Check if gene_name has missing '(' or ')'\n",
        "  if (grepl(\"[()]\", gene_name)) {\n",
        "    # Add missing parentheses\n",
        "    if (!grepl(\"\\\\(\", gene_name)) {\n",
        "      gene_name <- paste0(\"(\", gene_name)\n",
        "    }\n",
        "    if (!grepl(\"\\\\)\", gene_name)) {\n",
        "      gene_name <- paste0(gene_name, \")\")\n",
        "    }\n",
        "  }\n",
        "\n",
        "  # Get corresponding PMID list\n",
        "  pmid_list <- PMIDList_list[[i]]\n",
        "\n",
        "  # Iterate over PMIDs in the list\n",
        "  for (pmid in pmid_list) {\n",
        "    # Check if pmid is not NA\n",
        "    if (!is.na(pmid)) {\n",
        "      # Call Give_Sentences_PMC function for the gene name and PMID\n",
        "      sentences <- Give_Sentences_PMC(pmid, gene_name)\n",
        "\n",
        "      # Check if sentences are not empty\n",
        "      if (length(sentences) > 0) {\n",
        "        # Concatenate all sentences into a single string\n",
        "        concatenated_sentences <- paste(sentences, collapse = \" \")\n",
        "\n",
        "        # Add the results to the data frame\n",
        "        results_df <- rbind(results_df, data.frame(gene_name = gene_name, pmid = pmid, sentences = concatenated_sentences))\n",
        "      }\n",
        "    }\n",
        "  }\n",
        "}\n",
        "\n",
        "# Write the results data frame to a CSV file\n",
        "write.csv(results_df, \"results_Chinese_gn.csv\", row.names = FALSE)  # Writing the results data frame to a CSV file\n"
      ],
      "metadata": {
        "id": "j5gtDCWlCb12"
      },
      "execution_count": null,
      "outputs": []
    },
    {
      "cell_type": "markdown",
      "source": [
        "### It Takes the Input as CSV as Chemical Count and Generates GiveSentence"
      ],
      "metadata": {
        "id": "1HT_PFwlFHcs"
      }
    },
    {
      "cell_type": "code",
      "source": [
        "\n",
        "# Read the CSV file\n",
        "data <- read.csv(\"/content/drive/MyDrive/IP_new/IP/Traditional Chinese Medicine/chinese_merged_ch.csv\")  # Reading the merged chemical CSV file\n",
        "\n",
        "# Extract GeneName column into a list\n",
        "GeneName_list <- data$ChemicalName  # Extracting the ChemicalName column into a list\n",
        "\n",
        "# Extract PMCID column into a list\n",
        "PMCID_list <- data$PMCID  # Extracting the PMCID column into a list\n",
        "\n",
        "# Function to extract numeric part from PMCID\n",
        "extract_numeric_part <- function(pmcid) {\n",
        "  if (pmcid != \"[nan]\") {\n",
        "    return(as.numeric(gsub(\"[^0-9]\", \"\", pmcid)))  # Extracting numeric part from PMCID\n",
        "  } else {\n",
        "    return(NA)\n",
        "  }\n",
        "}\n",
        "\n",
        "# Extract numeric part from PMCID and convert to list of lists\n",
        "PMIDList_list <- lapply(PMCID_list, extract_numeric_part)  # Applying the function to extract numeric parts\n",
        "\n",
        "# Create an empty data frame to store results\n",
        "results_df <- data.frame(\n",
        "  gene_name = character(),\n",
        "  pmid = character(),\n",
        "  sentences = character(),\n",
        "  stringsAsFactors = FALSE\n",
        ")  # Initializing an empty data frame\n",
        "\n",
        "# Iterate over indices of GeneName_list\n",
        "for (i in seq_along(GeneName_list)) {  # Iterating over each element in GeneName_list\n",
        "  # Get gene name\n",
        "  gene_name <- GeneName_list[[i]]\n",
        "\n",
        "  # Check if gene_name has missing '(' or ')'\n",
        "  if (grepl(\"[()]\", gene_name)) {\n",
        "    # Add missing parentheses\n",
        "    if (!grepl(\"\\\\(\", gene_name)) {\n",
        "      gene_name <- paste0(\"(\", gene_name)\n",
        "    }\n",
        "    if (!grepl(\"\\\\)\", gene_name)) {\n",
        "      gene_name <- paste0(gene_name, \")\")\n",
        "    }\n",
        "  }\n",
        "\n",
        "  # Get corresponding PMID list\n",
        "  pmid_list <- PMIDList_list[[i]]\n",
        "\n",
        "  # Iterate over PMIDs in the list\n",
        "  for (pmid in pmid_list) {\n",
        "    # Check if pmid is not NA\n",
        "    if (!is.na(pmid)) {\n",
        "      # Call Give_Sentences_PMC function for the gene name and PMID\n",
        "      sentences <- Give_Sentences_PMC(pmid, gene_name)\n",
        "\n",
        "      # Check if sentences are not empty\n",
        "      if (length(sentences) > 0) {\n",
        "        # Concatenate all sentences into a single string\n",
        "        concatenated_sentences <- paste(sentences, collapse = \" \")\n",
        "\n",
        "        # Add the results to the data frame\n",
        "        results_df <- rbind(results_df, data.frame(gene_name = gene_name, pmid = pmid, sentences = concatenated_sentences))\n",
        "      }\n",
        "    }\n",
        "  }\n",
        "}\n",
        "\n",
        "# Write the results data frame to a CSV file\n",
        "write.csv(results_df, \"results_Chinese_ch.csv\", row.names = FALSE)  # Writing the results data frame to a CSV file\n"
      ],
      "metadata": {
        "id": "J503sefeCbsQ"
      },
      "execution_count": null,
      "outputs": []
    },
    {
      "cell_type": "markdown",
      "source": [
        "# Change Runtime to Python For INTERACTION"
      ],
      "metadata": {
        "id": "PG5-U_4ZFerO"
      }
    },
    {
      "cell_type": "code",
      "source": [
        "import pandas as pd\n",
        "import re\n",
        "\n",
        "# Load the Chemicals and Genes CSV files into dataframes\n",
        "chemicals_df = pd.read_csv('/content/drive/MyDrive/IP/AyurVeda_New/results_ayu_ch.csv')\n",
        "genes_df = pd.read_csv('/content/drive/MyDrive/IP/AyurVeda_New/results_ayu_gn.csv')\n",
        "disease_df = pd.read_csv('/content/drive/MyDrive/IP/AyurVeda_New/results_ayu_dh.csv')"
      ],
      "metadata": {
        "id": "xoMEm2QyFgpg"
      },
      "execution_count": null,
      "outputs": []
    },
    {
      "cell_type": "code",
      "source": [
        "cols = ['pmid','Chemical_name', 'sentences']\n",
        "chemicals_df = chemicals_df[cols]"
      ],
      "metadata": {
        "id": "X1SYTcsGJ7Qd"
      },
      "execution_count": null,
      "outputs": []
    },
    {
      "cell_type": "code",
      "source": [
        "cols = ['gene_name','pmid', 'sentences']\n",
        "genes_df = genes_df[cols]"
      ],
      "metadata": {
        "id": "Llh0GzbdJ7N5"
      },
      "execution_count": null,
      "outputs": []
    },
    {
      "cell_type": "code",
      "source": [
        "cols = ['disease_name','pmid', 'sentences']\n",
        "disease_df = disease_df[cols]"
      ],
      "metadata": {
        "id": "v9ZhqkZoKJhy"
      },
      "execution_count": null,
      "outputs": []
    },
    {
      "cell_type": "markdown",
      "source": [
        "## Interaction Between Gene Chemicals"
      ],
      "metadata": {
        "id": "b7mkfzCXKEYt"
      }
    },
    {
      "cell_type": "code",
      "source": [
        "# Initialize lists to store the extracted data\n",
        "\n",
        "pmcid_list = []\n",
        "sentence_list = []\n",
        "genes_list = []\n",
        "chemicals_list = []\n",
        "interaction_type_list = []\n",
        "regulation_list = []\n",
        "\n",
        "# Define regular expressions for different interaction types\n",
        "interaction_patterns = {\n",
        "    'Inhibition': r'\\b(inhibit(?:s|ing)?|inhibition)\\b',\n",
        "    'Activation': r'\\b(activate(?:s|ing)?|activation)\\b',\n",
        "    'Proliferation': r'\\bproliferation\\b',\n",
        "    'Allosteric': r'\\ballosteric\\b',\n",
        "    'Agonist': r'\\bagonist\\b',\n",
        "    'Antagonist': r'\\bantagonist\\b'\n",
        "}\n",
        "\n",
        "# Iterate through each row in the Chemicals dataframe\n",
        "for chem_row in chemicals_df.itertuples():\n",
        "    for gene_row in genes_df.itertuples():\n",
        "        # Check if the PMID and PMCID match in both dataframes\n",
        "        if  chem_row.sentences == gene_row.sentences:\n",
        "            sentence = str(chem_row.sentences)  # Ensure sentence is a string\n",
        "            chemicals = str(chem_row.Chemical_name)  # Convert to string\n",
        "            genes = str(gene_row.gene_name)  # Convert to string\n",
        "\n",
        "            # Initialize interaction type and regulation as 'Other'\n",
        "            interaction_type = 'Other'\n",
        "            regulation = 'Other'\n",
        "\n",
        "            # Check for interaction type using regular expressions\n",
        "            for key, pattern in interaction_patterns.items():\n",
        "                if re.search(pattern, sentence, re.IGNORECASE):\n",
        "                    interaction_type = key\n",
        "                    break\n",
        "\n",
        "            # Use regular expressions to identify regulation\n",
        "            if re.search(r'\\b(up(?:-| )?regulated)\\b', sentence, re.IGNORECASE):\n",
        "                regulation = 'Up'\n",
        "            elif re.search(r'\\b(down(?:-| )?regulated)\\b', sentence, re.IGNORECASE):\n",
        "                regulation = 'Down'\n",
        "\n",
        "            # Append the extracted data to respective lists\n",
        "\n",
        "            pmcid_list.append(chem_row.pmid)\n",
        "            sentence_list.append(sentence)\n",
        "            genes_list.append(genes)\n",
        "            chemicals_list.append(chemicals)\n",
        "            interaction_type_list.append(interaction_type)\n",
        "            regulation_list.append(regulation)\n",
        "\n",
        "# Create a new dataframe with the extracted data\n",
        "result_df = pd.DataFrame({\n",
        "\n",
        "    'pmid': pmcid_list,\n",
        "    'Sentence': sentence_list,\n",
        "    'Genes': genes_list,\n",
        "    'Chemicals': chemicals_list,\n",
        "    'Interaction type': interaction_type_list,\n",
        "    'Regulation': regulation_list\n",
        "})\n",
        "\n",
        "# Save the new dataframe to a CSV file\n",
        "result_df.to_csv('interaction_chemical_gene.csv', index=False)\n",
        "\n"
      ],
      "metadata": {
        "id": "Oydr0x9gJ7Lx"
      },
      "execution_count": null,
      "outputs": []
    },
    {
      "cell_type": "markdown",
      "source": [
        "## Interaction Between Gene Disease"
      ],
      "metadata": {
        "id": "0V8u9vmLKVX1"
      }
    },
    {
      "cell_type": "code",
      "source": [
        "pmcid_list = []\n",
        "sentence_list = []\n",
        "genes_list = []\n",
        "diseases_list = []\n",
        "interaction_type_list = []\n",
        "regulation_list = []\n",
        "\n",
        "# Define regular expressions for different interaction types\n",
        "interaction_patterns = {\n",
        "    'Inhibition': r'\\b(inhibit(?:s|ing)?|inhibition)\\b',\n",
        "    'Activation': r'\\b(activate(?:s|ing)?|activation)\\b',\n",
        "    'Proliferation': r'\\bproliferation\\b',\n",
        "    'Allosteric': r'\\ballosteric\\b',\n",
        "    'Agonist': r'\\bagonist\\b',\n",
        "    'Antagonist': r'\\bantagonist\\b'\n",
        "}\n",
        "\n",
        "# Iterate through each row in the Chemicals dataframe\n",
        "for dis_row in disease_df.itertuples():\n",
        "    for gene_row in genes_df.itertuples():\n",
        "        # Check if the PMID and PMCID match in both dataframes\n",
        "        if dis_row.pmid == gene_row.pmid:\n",
        "            sentence = str(dis_row.sentences)  # Ensure sentence is a string\n",
        "            diseases = str(dis_row.gene_name)  # Convert to string\n",
        "            genes = str(gene_row.gene_name)  # Convert to string\n",
        "\n",
        "            # Initialize interaction type and regulation as 'Other'\n",
        "            interaction_type = 'Other'\n",
        "            regulation = 'Other'\n",
        "\n",
        "            # Check for interaction type using regular expressions\n",
        "            for key, pattern in interaction_patterns.items():\n",
        "                if re.search(pattern, sentence, re.IGNORECASE):\n",
        "                    interaction_type = key\n",
        "                    break\n",
        "\n",
        "            # Use regular expressions to identify regulation\n",
        "            if re.search(r'\\b(up(?:-| )?regulated)\\b', sentence, re.IGNORECASE):\n",
        "                regulation = 'Up'\n",
        "            elif re.search(r'\\b(down(?:-| )?regulated)\\b', sentence, re.IGNORECASE):\n",
        "                regulation = 'Down'\n",
        "\n",
        "            # Append the extracted data to respective lists\n",
        "\n",
        "            pmcid_list.append(dis_row.pmid)\n",
        "            sentence_list.append(sentence)\n",
        "            genes_list.append(genes)\n",
        "            diseases_list.append(diseases)\n",
        "            interaction_type_list.append(interaction_type)\n",
        "            regulation_list.append(regulation)\n",
        "\n",
        "# Create a new dataframe with the extracted data\n",
        "result_df = pd.DataFrame({\n",
        "\n",
        "    'pmid': pmcid_list,\n",
        "    'Sentence': sentence_list,\n",
        "    'Genes': genes_list,\n",
        "    'Diseases': diseases_list,\n",
        "    'Interaction type': interaction_type_list,\n",
        "    'Regulation': regulation_list\n",
        "})\n",
        "\n",
        "# Save the new dataframe to a CSV file\n",
        "result_df.to_csv('interaction_Gene_Disease.csv', index=False)"
      ],
      "metadata": {
        "id": "TntrvA43J7JR"
      },
      "execution_count": null,
      "outputs": []
    },
    {
      "cell_type": "markdown",
      "source": [
        "## Remove Duplicate Rows\n"
      ],
      "metadata": {
        "id": "u2OI3QSDKa5v"
      }
    },
    {
      "cell_type": "code",
      "source": [
        "result_df.drop_duplicates()"
      ],
      "metadata": {
        "id": "V5gAsiEdJ7Ex"
      },
      "execution_count": null,
      "outputs": []
    }
  ]
}